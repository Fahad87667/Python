{
 "cells": [
  {
   "cell_type": "code",
   "execution_count": 4,
   "metadata": {},
   "outputs": [
    {
     "data": {
      "text/plain": [
       "[1, 2, 3, 4, 5, 6, 7, 8]"
      ]
     },
     "execution_count": 4,
     "metadata": {},
     "output_type": "execute_result"
    }
   ],
   "source": [
    "# 4. Merge Two Sorted Lists\n",
    "# Problem:\n",
    "# Merge two sorted lists into one sorted list.\n",
    "\n",
    "# Approach:\n",
    "# Use two pointers to iterate through both lists and compare elements to build the merged list.\n",
    "# Algorithm:\n",
    "# Initialize two pointers for the two lists.\n",
    "# Compare elements and append the smaller element to the merged list.\n",
    "# Append any remaining elements from both lists.\n",
    "\n",
    "def merge_list(list1,list2):\n",
    "    merged = [] # empty list\n",
    "    # two pointer set to be at 0\n",
    "    i = j = 0\n",
    "    # comparing elements to know which one is smaller\n",
    "    while i < len(list1) and j < len(list2):\n",
    "        #append smaller element in empty list\n",
    "        if list1[i] < list2[j]:   \n",
    "            merged.append(list1[i])\n",
    "            i = i+1\n",
    "        else:\n",
    "            merged.append(list2[j])\n",
    "            \n",
    "    # Extending sorted two lists to one.\n",
    "    merged.extend(list1[i:]) \n",
    "    merged.extend(list2[j:])\n",
    "\n",
    "    return merged\n",
    "\n",
    "a = [1,2,3,4]\n",
    "b = [5,6,7,8]\n",
    "\n",
    "merge_list(a,b)\n"
   ]
  },
  {
   "cell_type": "code",
   "execution_count": 5,
   "metadata": {},
   "outputs": [
    {
     "data": {
      "text/plain": [
       "[1, 2, 3, 4, 5, 6, 7, 8]"
      ]
     },
     "execution_count": 5,
     "metadata": {},
     "output_type": "execute_result"
    }
   ],
   "source": [
    "def merging(a,b):\n",
    "    merg = []\n",
    "    i = j = 0\n",
    "\n",
    "    while i < len(a) and j < len(b):\n",
    "        if a[i] < b[j]:\n",
    "            merg.append(a[i])\n",
    "            i += 1\n",
    "        else:\n",
    "            merg.append(b[j])\n",
    "    merg.extend(a[i:])\n",
    "    merg.extend(b[j:])\n",
    "\n",
    "    return merg\n",
    "\n",
    "merging(a,b)"
   ]
  },
  {
   "cell_type": "code",
   "execution_count": 12,
   "metadata": {},
   "outputs": [
    {
     "data": {
      "text/plain": [
       "[3, 4, 5]"
      ]
     },
     "execution_count": 12,
     "metadata": {},
     "output_type": "execute_result"
    }
   ],
   "source": [
    "# Find Duplicates in a List\n",
    "# Problem:\n",
    "# Find all duplicate elements in a list.\n",
    "\n",
    "# Approach:\n",
    "# Use Sets to track seen elements and duplicates.\n",
    "# Algorithm:\n",
    "# Initialize Sets: Use seen to track elements already encountered and duplicates for duplicates.\n",
    "# Iterate List: For each element, check if it is in seen. If so, add to duplicates; otherwise, add to seen.\n",
    "\n",
    "\n",
    "def dupli(x):\n",
    "    seen = set()\n",
    "    duplicat = set()\n",
    "\n",
    "    for i in x:\n",
    "        if i in seen:\n",
    "            duplicat.add(i)\n",
    "        else:\n",
    "            seen.add(i)\n",
    "    \n",
    "    return list(duplicat)\n",
    "\n",
    "lsts = [1,2,3,4,5,5,3,4,54,5,6]\n",
    "\n",
    "dupli(lsts)\n"
   ]
  },
  {
   "cell_type": "code",
   "execution_count": 4,
   "metadata": {},
   "outputs": [
    {
     "name": "stdout",
     "output_type": "stream",
     "text": [
      "*\n",
      "**\n",
      "***\n",
      "****\n",
      "*****\n",
      "******\n",
      "*******\n",
      "********\n",
      "*********\n",
      "**********\n"
     ]
    }
   ],
   "source": [
    "# Print STARS\n",
    "\n",
    "num = 10\n",
    "i = 1\n",
    "\n",
    "while i<=num:\n",
    "    print(i*\"*\")\n",
    "    i += 1"
   ]
  },
  {
   "cell_type": "code",
   "execution_count": 8,
   "metadata": {},
   "outputs": [
    {
     "name": "stdout",
     "output_type": "stream",
     "text": [
      "{'Name': 'FAHAD', 'Age': 21}\n"
     ]
    }
   ],
   "source": [
    "#Convert two lists into 1 dictionary \n",
    "\n",
    "lstt1 = [\"Name\", \"Age\"]\n",
    "lstt2 = [\"FAHAD\", 21]\n",
    "\n",
    "# Initialize an empty dictionary\n",
    "dict_result = {}\n",
    "\n",
    "# Iterate over the indices of the lists\n",
    "for i in range(len(lstt1)):\n",
    "    dict_result[lstt1[i]] = lstt2[i]\n",
    "\n",
    "print(dict_result)\n"
   ]
  },
  {
   "cell_type": "code",
   "execution_count": 17,
   "metadata": {},
   "outputs": [
    {
     "name": "stdout",
     "output_type": "stream",
     "text": [
      "1 3 5 7 9 2 4 6 8 "
     ]
    }
   ],
   "source": [
    "# Print odd numbers and even numbers upto 10\n",
    "\n",
    "# Odd numbers\n",
    "for i in range(1,10,2):\n",
    "    print(i, end=\" \")\n",
    "\n",
    "for i in range(2,10,2):\n",
    "    print(i, end=\" \")"
   ]
  },
  {
   "cell_type": "code",
   "execution_count": 32,
   "metadata": {},
   "outputs": [
    {
     "name": "stdout",
     "output_type": "stream",
     "text": [
      "1 3 5 7 9 0 2 4 6 8 10 "
     ]
    }
   ],
   "source": [
    "# odd Numbers Using While Loop\n",
    "\n",
    "i = 1\n",
    "\n",
    "while i <= 10:\n",
    "    print(i, end=\" \")\n",
    "    i += 2\n",
    "\n",
    "# Even Numbers Using While Loop\n",
    "a = 0\n",
    "while a <= 10:\n",
    "    print(a, end=\" \")\n",
    "    a += 2"
   ]
  },
  {
   "cell_type": "code",
   "execution_count": 5,
   "metadata": {},
   "outputs": [
    {
     "name": "stdout",
     "output_type": "stream",
     "text": [
      "12\n"
     ]
    }
   ],
   "source": [
    "# Sum of digit\n",
    "num = 750\n",
    "sum = 0\n",
    "\n",
    "while num > 0:\n",
    "    digit = num % 10\n",
    "    sum += digit\n",
    "    num = num // 10\n",
    "\n",
    "print(sum)\n",
    "\n",
    "# # one lineer code \n",
    "# print(sum(map(int, str(750))))"
   ]
  },
  {
   "cell_type": "code",
   "execution_count": 18,
   "metadata": {},
   "outputs": [
    {
     "data": {
      "text/plain": [
       "'OLLEH'"
      ]
     },
     "execution_count": 18,
     "metadata": {},
     "output_type": "execute_result"
    }
   ],
   "source": [
    "# reverse number pattern\n",
    "\n",
    "def reverse_num(n):\n",
    "    return n[::-1]\n",
    "\n",
    "reverse_num('HELLO')"
   ]
  },
  {
   "cell_type": "code",
   "execution_count": 23,
   "metadata": {},
   "outputs": [
    {
     "name": "stdout",
     "output_type": "stream",
     "text": [
      "1 2 3 4 \n",
      "1 2 3 \n",
      "1 2 \n",
      "1 \n"
     ]
    }
   ],
   "source": [
    "for i in range(4, 0, -1):\n",
    "    for j in range(1, i + 1):\n",
    "        print(j, end=\" \")\n",
    "    print()\n"
   ]
  },
  {
   "cell_type": "code",
   "execution_count": null,
   "metadata": {},
   "outputs": [],
   "source": []
  }
 ],
 "metadata": {
  "kernelspec": {
   "display_name": "Python 3",
   "language": "python",
   "name": "python3"
  },
  "language_info": {
   "codemirror_mode": {
    "name": "ipython",
    "version": 3
   },
   "file_extension": ".py",
   "mimetype": "text/x-python",
   "name": "python",
   "nbconvert_exporter": "python",
   "pygments_lexer": "ipython3",
   "version": "3.12.4"
  }
 },
 "nbformat": 4,
 "nbformat_minor": 2
}
