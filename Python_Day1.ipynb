{
 "cells": [
  {
   "cell_type": "code",
   "execution_count": 3,
   "metadata": {},
   "outputs": [
    {
     "data": {
      "text/plain": [
       "'dahaF'"
      ]
     },
     "execution_count": 3,
     "metadata": {},
     "output_type": "execute_result"
    }
   ],
   "source": [
    "# Reverse a String: Write a function that takes a string as input and returns the string reversed.\n",
    "\n",
    "def reverse_string(s):\n",
    "    return s[::-1]\n",
    "\n",
    "reverse_string(\"Fahad\")"
   ]
  },
  {
   "cell_type": "code",
   "execution_count": 4,
   "metadata": {},
   "outputs": [
    {
     "name": "stdout",
     "output_type": "stream",
     "text": [
      "It is not\n"
     ]
    },
    {
     "data": {
      "text/plain": [
       "True"
      ]
     },
     "execution_count": 4,
     "metadata": {},
     "output_type": "execute_result"
    }
   ],
   "source": [
    "# Check for Palindrome: Write a function that checks if a given string is a palindrome (reads the same forwards and backwards).\n",
    "\n",
    "def palindrome(a):\n",
    "    if a == a[::-11]:\n",
    "        print('It is Palindrome')\n",
    "    else:\n",
    "        print('It is not')\n",
    "\n",
    "def palindrom2(b):\n",
    "    return b == b[::-1]\n",
    "\n",
    "palindrome(\"Fahad\")\n",
    "palindrom2('MOM')"
   ]
  },
  {
   "cell_type": "code",
   "execution_count": 5,
   "metadata": {},
   "outputs": [
    {
     "data": {
      "text/plain": [
       "24"
      ]
     },
     "execution_count": 5,
     "metadata": {},
     "output_type": "execute_result"
    }
   ],
   "source": [
    "# Factorial: Write a function that computes the factorial of a given number n.\n",
    "def factorial(a):\n",
    "    if a == 0:\n",
    "        return 1\n",
    "    return a * factorial(a-1)\n",
    "\n",
    "\n",
    "factorial(4)"
   ]
  },
  {
   "cell_type": "code",
   "execution_count": 6,
   "metadata": {},
   "outputs": [
    {
     "data": {
      "text/plain": [
       "13"
      ]
     },
     "execution_count": 6,
     "metadata": {},
     "output_type": "execute_result"
    }
   ],
   "source": [
    "# Fibonacci Sequence: Write a function that returns the nth Fibonacci number.\n",
    "def fibonacci(n):\n",
    "    if n <= 1:\n",
    "        return 1\n",
    "    return fibonacci(n-1) + fibonacci(n-2)\n",
    "\n",
    "fibonacci(6)"
   ]
  },
  {
   "cell_type": "code",
   "execution_count": 7,
   "metadata": {},
   "outputs": [
    {
     "name": "stdout",
     "output_type": "stream",
     "text": [
      "Prime Number\n"
     ]
    },
    {
     "data": {
      "text/plain": [
       "True"
      ]
     },
     "execution_count": 7,
     "metadata": {},
     "output_type": "execute_result"
    }
   ],
   "source": [
    "# check prime numbers\n",
    "\n",
    "def prime_numbers(n):\n",
    "    if n <=1:\n",
    "        print(\"Not a Prime Number\")\n",
    "    else:\n",
    "        for i in range(2, int(n**0.5)+1):\n",
    "           if n % i == 0 :\n",
    "            print(\"Not a Prime Number\")\n",
    "            return\n",
    "        print(\"Prime Number\")\n",
    "\n",
    "\n",
    "def prime_check2(n):\n",
    "   if n <= 1:\n",
    "      return False\n",
    "   \n",
    "   for i in range(2, int(n**0.5)+1):\n",
    "      if n % i == 0:\n",
    "         return False\n",
    "      \n",
    "      return True\n",
    "   \n",
    "\n",
    "prime_numbers(11)\n",
    "prime_check2(11)"
   ]
  },
  {
   "cell_type": "code",
   "execution_count": 8,
   "metadata": {},
   "outputs": [
    {
     "data": {
      "text/plain": [
       "6"
      ]
     },
     "execution_count": 8,
     "metadata": {},
     "output_type": "execute_result"
    }
   ],
   "source": [
    "# Find the largest element in list\n",
    "\n",
    "def largest_element(lst):\n",
    "    largest = lst[0]\n",
    "    for i in lst:\n",
    "        if i > largest:\n",
    "            largest = i\n",
    "    return largest\n",
    "    \n",
    "largest_element([1,2,6786,3,5,6])\n",
    "\n",
    "# in built function\n",
    "list1 = [1,2,3,4,5,6]\n",
    "max(list1)"
   ]
  },
  {
   "cell_type": "code",
   "execution_count": 9,
   "metadata": {},
   "outputs": [
    {
     "data": {
      "text/plain": [
       "{2, 3, 4, 5}"
      ]
     },
     "execution_count": 9,
     "metadata": {},
     "output_type": "execute_result"
    }
   ],
   "source": [
    "# remove duplicate elements in list\n",
    "def duplicate(lst):\n",
    "    unique = []\n",
    "    for elem in lst:\n",
    "        if elem not in unique:\n",
    "            unique.append(elem)\n",
    "    return unique\n",
    "\n",
    "duplicate([2,3,5,3,5])\n",
    "\n",
    "# Built in function -- change it to set\n",
    "listt=[2,2,2,3,3,4,5,5,4,5]\n",
    "set(listt)"
   ]
  },
  {
   "cell_type": "code",
   "execution_count": 10,
   "metadata": {},
   "outputs": [
    {
     "data": {
      "text/plain": [
       "10"
      ]
     },
     "execution_count": 10,
     "metadata": {},
     "output_type": "execute_result"
    }
   ],
   "source": [
    "# sum of elements\n",
    "def sum_of_list(lst):\n",
    "    total = 0\n",
    "    for elem in lst:\n",
    "        total += elem\n",
    "    return total\n",
    "\n",
    "sum_of_list([2,3,5])\n",
    "\n",
    "# built in function\n",
    "sum([2,3,5])"
   ]
  },
  {
   "cell_type": "code",
   "execution_count": 11,
   "metadata": {},
   "outputs": [
    {
     "data": {
      "text/plain": [
       "4"
      ]
     },
     "execution_count": 11,
     "metadata": {},
     "output_type": "execute_result"
    }
   ],
   "source": [
    "# Count occurances\n",
    "\n",
    "def occurances(lst, elem):\n",
    "    count = 0\n",
    "    for i in lst:\n",
    "        if i == elem:\n",
    "            count +=1\n",
    "\n",
    "    return count\n",
    "\n",
    "occurances([1,2,2,3,3,4,4,5,5,5,5,7], 5)\n",
    "\n"
   ]
  },
  {
   "cell_type": "code",
   "execution_count": 12,
   "metadata": {},
   "outputs": [
    {
     "data": {
      "text/plain": [
       "[1, 2, 3, 3, 5, 6, 8]"
      ]
     },
     "execution_count": 12,
     "metadata": {},
     "output_type": "execute_result"
    }
   ],
   "source": [
    "# sort a list using bubble sort\n",
    "def sorting(lst):\n",
    "    n = len(lst)\n",
    "    for i in range(n):\n",
    "        for j in range(0, n-i-1):\n",
    "            if lst[j] > lst[j+1]:\n",
    "                lst[j],lst[j+1] = lst[j+1],lst[j]\n",
    "    return lst\n",
    "\n",
    "list3 = [2,3,6,5,8,1,3]\n",
    "sorting(list3)\n",
    "\n",
    "# Inbuilt functions\n",
    "sorted(list3)"
   ]
  },
  {
   "cell_type": "code",
   "execution_count": 13,
   "metadata": {},
   "outputs": [
    {
     "name": "stdout",
     "output_type": "stream",
     "text": [
      "Good Morning !\n",
      "Fahad\n",
      "Thank you..\n"
     ]
    }
   ],
   "source": [
    "#What are Python decorators and how are they used?\n",
    "\n",
    "#Decorators are a way to modify or extend the behavior of functions\n",
    "#  or methods without changing their actual code. \n",
    "# They are often used for logging, access control, memoization, etc.\n",
    "\n",
    "def decorator(func):\n",
    "    def wrap():\n",
    "     print(\"Good Morning !\")\n",
    "     func()\n",
    "     print(\"Thank you..\")\n",
    "    return wrap\n",
    "\n",
    "@decorator\n",
    "def name():\n",
    "   print(\"Fahad\")\n",
    "\n",
    "name()"
   ]
  },
  {
   "cell_type": "code",
   "execution_count": 14,
   "metadata": {},
   "outputs": [
    {
     "name": "stdout",
     "output_type": "stream",
     "text": [
      "Hello World\n"
     ]
    }
   ],
   "source": [
    "print(\"Hello World\")"
   ]
  },
  {
   "cell_type": "code",
   "execution_count": 15,
   "metadata": {},
   "outputs": [
    {
     "name": "stdout",
     "output_type": "stream",
     "text": [
      "Hello world\n"
     ]
    }
   ],
   "source": [
    "print(\"Hello world\")"
   ]
  },
  {
   "cell_type": "code",
   "execution_count": null,
   "metadata": {},
   "outputs": [],
   "source": []
  }
 ],
 "metadata": {
  "kernelspec": {
   "display_name": "Python 3",
   "language": "python",
   "name": "python3"
  },
  "language_info": {
   "codemirror_mode": {
    "name": "ipython",
    "version": 3
   },
   "file_extension": ".py",
   "mimetype": "text/x-python",
   "name": "python",
   "nbconvert_exporter": "python",
   "pygments_lexer": "ipython3",
   "version": "3.12.4"
  }
 },
 "nbformat": 4,
 "nbformat_minor": 2
}
